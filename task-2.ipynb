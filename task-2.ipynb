{
 "cells": [
  {
   "cell_type": "markdown",
   "metadata": {},
   "source": [
    "# Part 1: Lists and List Slicing"
   ]
  },
  {
   "cell_type": "code",
   "execution_count": 1,
   "metadata": {},
   "outputs": [
    {
     "name": "stdout",
     "output_type": "stream",
     "text": [
      "[1, 3, 5, 7, 9]\n",
      "[15, 17, 19]\n",
      "[7, 9, 11, 13, 15]\n"
     ]
    }
   ],
   "source": [
    "# Create a list of 10 integers ranging from 1 to 20.\n",
    "list = [1 , 3 , 5 , 7 , 9 , 11 , 13 , 15 , 17 , 19]\n",
    "\n",
    "# Extract and print the first 5 elements of the list.\n",
    "print(list[:5])\n",
    "\n",
    "# Extract and print the last 3 elements using negative indexing.\n",
    "print(list[-3:])\n",
    "\n",
    "# Extract and print all elements from index 3 to index 7.\n",
    "print(list[3:8])"
   ]
  },
  {
   "cell_type": "code",
   "execution_count": 2,
   "metadata": {},
   "outputs": [
    {
     "name": "stdout",
     "output_type": "stream",
     "text": [
      "['Apple', 'orange', 'panana', 'watermelon', 'Strawberry', 'guava', 'Dates']\n",
      "['Apple', 'orange', 'panana', 'watermelon', 'Strawberry', 'guava']\n"
     ]
    }
   ],
   "source": [
    "# Creates a list of 5 different fruits.\n",
    "fruits = [\"Apple\" , \"orange\" , \"panana\" , \"watermelon\" , \"Strawberry\"]\n",
    "\n",
    "# Add two more fruits to the list.\n",
    "fruits.append(\"guava\")\n",
    "fruits.append(\"Dates\")\n",
    "print(fruits)\n",
    "\n",
    "# Remove the last fruit in the list.\n",
    "fruits.pop()\n",
    "\n",
    "# Print the updated list.\n",
    "print(fruits)"
   ]
  },
  {
   "cell_type": "markdown",
   "metadata": {},
   "source": [
    "# Part 2: Tuples and Dictionaries"
   ]
  },
  {
   "cell_type": "code",
   "execution_count": 3,
   "metadata": {},
   "outputs": [
    {
     "name": "stdout",
     "output_type": "stream",
     "text": [
      "cairo\n"
     ]
    },
    {
     "ename": "TypeError",
     "evalue": "'tuple' object does not support item assignment",
     "output_type": "error",
     "traceback": [
      "\u001b[1;31m---------------------------------------------------------------------------\u001b[0m",
      "\u001b[1;31mTypeError\u001b[0m                                 Traceback (most recent call last)",
      "Cell \u001b[1;32mIn[3], line 8\u001b[0m\n\u001b[0;32m      5\u001b[0m \u001b[38;5;28mprint\u001b[39m(cities[\u001b[38;5;241m1\u001b[39m])\n\u001b[0;32m      7\u001b[0m \u001b[38;5;66;03m#Try to change the value of the second city in the tuple.\u001b[39;00m\n\u001b[1;32m----> 8\u001b[0m \u001b[43mcities\u001b[49m\u001b[43m[\u001b[49m\u001b[38;5;241;43m1\u001b[39;49m\u001b[43m]\u001b[49m \u001b[38;5;241m=\u001b[39m \u001b[38;5;124m\"\u001b[39m\u001b[38;5;124mluxor\u001b[39m\u001b[38;5;124m\"\u001b[39m     \u001b[38;5;66;03m# 'tuple' object does not support item assignment\u001b[39;00m\n\u001b[0;32m      9\u001b[0m \u001b[38;5;28mprint\u001b[39m(cities)        \n",
      "\u001b[1;31mTypeError\u001b[0m: 'tuple' object does not support item assignment"
     ]
    }
   ],
   "source": [
    "# Create a tuple that contains 5 different cities.\n",
    "cities = (\"giza\" , \"cairo\" , \"alex\" , \"borto\" , \"aswan\")\n",
    "\n",
    "#Access and print the second city in the tuple.\n",
    "print(cities[1])\n",
    "\n",
    "#Try to change the value of the second city in the tuple.\n",
    "cities[1] = \"luxor\"     # 'tuple' object does not support item assignment\n",
    "print(cities)        "
   ]
  },
  {
   "cell_type": "code",
   "execution_count": 4,
   "metadata": {},
   "outputs": [
    {
     "name": "stdout",
     "output_type": "stream",
     "text": [
      "30\n",
      "{'name': 'john', 'age': 30, 'city': 'new york', 'jop': 'engineer'}\n",
      "{'name': 'john', 'age': 30, 'jop': 'engineer'}\n"
     ]
    }
   ],
   "source": [
    "# Write a Python program that creates a dictionary\n",
    "data = {\n",
    "    \"name\" : \"john\" ,\n",
    "    \"age\" : 30 , \n",
    "    \"city\" : \"new york\"\n",
    "}\n",
    "\n",
    "#Print the value of the 'age' key.\n",
    "print(data[\"age\"])\n",
    "\n",
    "# Add a new key-value pair 'job': 'Engineer' to the dictionary.\n",
    "data[\"jop\"] = \"engineer\"\n",
    "print(data)\n",
    "\n",
    "#Remove the 'city' key and print the updated dictionary.\n",
    "data.pop(\"city\")\n",
    "print(data)"
   ]
  },
  {
   "cell_type": "code",
   "execution_count": 5,
   "metadata": {},
   "outputs": [
    {
     "name": "stdout",
     "output_type": "stream",
     "text": [
      "Alice is 25 years old.\n",
      "Bob is 30 years old.\n",
      "Charlie is 22 years old.\n"
     ]
    }
   ],
   "source": [
    "# Creating the dictionary with names and ages\n",
    "people = {\n",
    "    \"Alice\": 25,\n",
    "    \"Bob\": 30,\n",
    "    \"Charlie\": 22\n",
    "}\n",
    "\n",
    "# Printing each person's name and age using a loop\n",
    "for name, age in people.items():\n",
    "    print(f\"{name} is {age} years old.\")\n"
   ]
  },
  {
   "cell_type": "markdown",
   "metadata": {},
   "source": [
    "# Part 3: Conditional Statements"
   ]
  },
  {
   "cell_type": "code",
   "execution_count": 6,
   "metadata": {},
   "outputs": [
    {
     "name": "stdout",
     "output_type": "stream",
     "text": [
      "you are Adult\n"
     ]
    }
   ],
   "source": [
    "# variable take input from user.\n",
    "age = int(input(\"enter your age: \"))\n",
    "\n",
    "# Adult or Minor with if-else statement.\n",
    "if age >= 18 :\n",
    "    print(\"you are Adult\")\n",
    "elif age < 18 :\n",
    "    print(\"you are Minor\")\n",
    "else:\n",
    "    print(\"please enter positive integer number\")"
   ]
  },
  {
   "cell_type": "code",
   "execution_count": 7,
   "metadata": {},
   "outputs": [
    {
     "name": "stdout",
     "output_type": "stream",
     "text": [
      "Number is odd\n"
     ]
    }
   ],
   "source": [
    "# variable take input from user.\n",
    "num = int(input(\"enter a number: \"))\n",
    "\n",
    "# checks if a number Even or Odd\n",
    "if num % 2 == 0 :\n",
    "    print(\"Number is even\")\n",
    "else:\n",
    "    print(\"Number is odd\")"
   ]
  },
  {
   "cell_type": "code",
   "execution_count": 8,
   "metadata": {},
   "outputs": [
    {
     "name": "stdout",
     "output_type": "stream",
     "text": [
      "your grade is C\n"
     ]
    }
   ],
   "source": [
    "# variable that Takes a score from the user\n",
    "score = int(input(\"enter your score: \"))\n",
    "\n",
    "# checks the grade \n",
    "if score >= 90 :\n",
    "    print(\"your grade is A\")\n",
    "elif score >= 70 :\n",
    "    print(\"your grade is B\")\n",
    "elif score >= 50 :\n",
    "    print(\"your grade is C\")\n",
    "else:\n",
    "    print(\"your grade is F\")"
   ]
  },
  {
   "cell_type": "markdown",
   "metadata": {},
   "source": [
    "# Part 4: Loops"
   ]
  },
  {
   "cell_type": "code",
   "execution_count": 9,
   "metadata": {},
   "outputs": [
    {
     "name": "stdout",
     "output_type": "stream",
     "text": [
      "2\n",
      "4\n",
      "6\n",
      "8\n",
      "10\n",
      "12\n",
      "14\n",
      "16\n",
      "18\n",
      "20\n"
     ]
    }
   ],
   "source": [
    "# for loop to print all even numbers between 1 and 20.\n",
    "for i in range(2 , 21 , 2):\n",
    "    print(i)\n"
   ]
  },
  {
   "cell_type": "code",
   "execution_count": 10,
   "metadata": {},
   "outputs": [
    {
     "name": "stdout",
     "output_type": "stream",
     "text": [
      "10\n",
      "9\n",
      "8\n",
      "7\n",
      "6\n",
      "5\n",
      "4\n",
      "3\n",
      "2\n",
      "1\n"
     ]
    }
   ],
   "source": [
    "# while loop to print the numbers from 10 to 1, in descending order.\n",
    "num = 10\n",
    "while num >= 1 :\n",
    "    print(num)\n",
    "    num -= 1"
   ]
  },
  {
   "cell_type": "code",
   "execution_count": 11,
   "metadata": {},
   "outputs": [
    {
     "name": "stdout",
     "output_type": "stream",
     "text": [
      "adding from 1 to 10 is: 55\n"
     ]
    }
   ],
   "source": [
    "# variable take input from user.\n",
    "num = int(input(\"enter a number: \"))\n",
    "\n",
    "# calculates the sum of all numbers from 1 to the entered number using a for loop.\n",
    "counter = 0\n",
    "for i in range(num + 1):\n",
    "    counter += i\n",
    "\n",
    "print(f\"adding from 1 to {num} is: {counter}\")"
   ]
  },
  {
   "cell_type": "markdown",
   "metadata": {},
   "source": [
    "# Part 5: Input Function and User Interaction"
   ]
  },
  {
   "cell_type": "code",
   "execution_count": 12,
   "metadata": {},
   "outputs": [
    {
     "name": "stdout",
     "output_type": "stream",
     "text": [
      "Hello, Hazem! You are 21 years old.\n"
     ]
    }
   ],
   "source": [
    "# asks the user for their name and age\n",
    "name = input(\"enter your name: \")\n",
    "age = int(input(\"enter your age: \"))\n",
    "\n",
    "print(f\"Hello, {name}! You are {age} years old.\")"
   ]
  },
  {
   "cell_type": "code",
   "execution_count": 13,
   "metadata": {},
   "outputs": [
    {
     "name": "stdout",
     "output_type": "stream",
     "text": [
      "You have great taste!\n"
     ]
    }
   ],
   "source": [
    "# asks the user for their favorite color\n",
    "color = input(\"enter your favorite color: \")\n",
    "\n",
    "# checks if it is 'blue'\n",
    "if color == \"blue\" :\n",
    "    print(\"You have great taste!\")\n",
    "else:\n",
    "    print(\"That's a nice color too!\")"
   ]
  },
  {
   "cell_type": "markdown",
   "metadata": {},
   "source": [
    "# Bonus Question"
   ]
  },
  {
   "cell_type": "code",
   "execution_count": 14,
   "metadata": {},
   "outputs": [
    {
     "name": "stdout",
     "output_type": "stream",
     "text": [
      "3.0\n",
      "Largest number: 5\n",
      "Smallest number: 1\n"
     ]
    }
   ],
   "source": [
    "# asks the user to enter a list of 5 numbers.\n",
    "calc = 0\n",
    "list = []\n",
    "for i in range(5):\n",
    "    num = int(input(\"enter num :\"))\n",
    "    list.append(num)\n",
    "    calc +=num\n",
    "\n",
    "# the average of the numbers.\n",
    "avg  = calc / len(list)\n",
    "print(avg)\n",
    "\n",
    "# largest and smallest numbers from the list.\n",
    "largest = max(list)\n",
    "smallest = min(list)\n",
    "\n",
    "print(\"Largest number:\", largest)\n",
    "print(\"Smallest number:\", smallest)"
   ]
  },
  {
   "cell_type": "code",
   "execution_count": null,
   "metadata": {},
   "outputs": [],
   "source": []
  }
 ],
 "metadata": {
  "kernelspec": {
   "display_name": "Python 3",
   "language": "python",
   "name": "python3"
  },
  "language_info": {
   "codemirror_mode": {
    "name": "ipython",
    "version": 3
   },
   "file_extension": ".py",
   "mimetype": "text/x-python",
   "name": "python",
   "nbconvert_exporter": "python",
   "pygments_lexer": "ipython3",
   "version": "3.13.0"
  }
 },
 "nbformat": 4,
 "nbformat_minor": 2
}
