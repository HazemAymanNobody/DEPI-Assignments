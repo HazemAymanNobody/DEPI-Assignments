{
 "cells": [
  {
   "cell_type": "markdown",
   "metadata": {},
   "source": [
    "# Section 1: Printing Messages\n",
    "1. Write a Python program to print the following message on the screen: \"Hello, Python learners! Today we start our coding journey.\"\n",
    "2. Challenge: Print a multi-line message using triple quotes that includes your name and favorite programming language."
   ]
  },
  {
   "cell_type": "code",
   "execution_count": null,
   "metadata": {},
   "outputs": [
    {
     "name": "stdout",
     "output_type": "stream",
     "text": [
      "Hello, Python learners! Today we start our coding journey.\n",
      "name: Hazem\n",
      "favorite programming language: Python\n"
     ]
    }
   ],
   "source": [
    "print(\"Hello, Python learners! Today we start our coding journey.\")\n",
    "\n",
    "\n",
    "#Challenge\n",
    "\n",
    "print('''name: Hazem\n",
    "favorite programming language: Python''')"
   ]
  },
  {
   "cell_type": "markdown",
   "metadata": {},
   "source": [
    "# Section 2: Variables and Data Types\n",
    "1. Create a variable called age and assign it your age. Print a message that says, \"I am [age] years old.\"\n",
    "2. Challenge: Create three variables of different data types (integer, float, and string). Print each variable with a description of its data type."
   ]
  },
  {
   "cell_type": "code",
   "execution_count": null,
   "metadata": {},
   "outputs": [
    {
     "name": "stdout",
     "output_type": "stream",
     "text": [
      "I am 21 years old.\n",
      "<class 'int'>\n",
      "<class 'float'>\n",
      "<class 'str'>\n"
     ]
    }
   ],
   "source": [
    "age = 21\n",
    "print(\"I am\", age,\"years old.\")\n",
    "\n",
    "\n",
    "#Challenge\n",
    "\n",
    "var1 = 100\n",
    "var2 = 10.2\n",
    "var3 = \"100\"\n",
    "\n",
    "print(type(var1))\n",
    "print(type(var2))\n",
    "print(type(var3))"
   ]
  },
  {
   "cell_type": "markdown",
   "metadata": {},
   "source": [
    "# Section 3: Working with Strings\n",
    "1. Given the string text = \"Python is amazing\", write a program to extract and print the word \"amazing\" from it.\n",
    "2. Challenge: Concatenate two strings, first_name and last_name, with a space in between, and print the full name in uppercase."
   ]
  },
  {
   "cell_type": "code",
   "execution_count": null,
   "metadata": {},
   "outputs": [
    {
     "name": "stdout",
     "output_type": "stream",
     "text": [
      "amazing\n"
     ]
    },
    {
     "data": {
      "text/plain": [
       "'HAZEM AYMAN'"
      ]
     },
     "execution_count": 9,
     "metadata": {},
     "output_type": "execute_result"
    }
   ],
   "source": [
    "text = \"Python is amazing\"\n",
    "print(text[-7:])\n",
    "\n",
    "\n",
    "#Challenge\n",
    "\n",
    "first_name = \"hazem \"\n",
    "last_name = \"ayman\"\n",
    "\n",
    "fullName = first_name + last_name\n",
    "fullName.upper()"
   ]
  },
  {
   "cell_type": "markdown",
   "metadata": {},
   "source": [
    "# Section 4: Basic Operations\n",
    "1. Write a program to calculate the area of a rectangle with a width of 5 and a height of 10.\n",
    "2. Challenge: Create two numbers, a = 20 and b = 7, and print the result of each arithmetic operation: addition, subtraction, multiplication, division, and modulo."
   ]
  },
  {
   "cell_type": "code",
   "execution_count": null,
   "metadata": {},
   "outputs": [
    {
     "name": "stdout",
     "output_type": "stream",
     "text": [
      "area is 50\n",
      "27\n",
      "13\n",
      "140\n",
      "2.857142857142857\n",
      "6\n"
     ]
    }
   ],
   "source": [
    "width = 5\n",
    "height = 10\n",
    "area = width * height\n",
    "print(\"area is\",area)\n",
    "\n",
    "#Challenge\n",
    "\n",
    "a = 20 \n",
    "b = 7\n",
    "\n",
    "print(a + b)\n",
    "print(a - b)\n",
    "print(a * b)\n",
    "print(a / b)\n",
    "print(a % b)"
   ]
  },
  {
   "cell_type": "markdown",
   "metadata": {},
   "source": [
    "# Section 5: Lists and Tuples\n",
    "1. Create a list of five of your favorite foods. Print the entire list, then print the third item in the list.\n",
    "2. Challenge: Convert the list into a tuple, and try to change the first item in the tuple. Observe and explain the result."
   ]
  },
  {
   "cell_type": "code",
   "execution_count": null,
   "metadata": {},
   "outputs": [
    {
     "name": "stdout",
     "output_type": "stream",
     "text": [
      "['fish', 'meet', 'chiken', 'bananas', 'apples']\n",
      "chiken\n"
     ]
    },
    {
     "ename": "TypeError",
     "evalue": "'tuple' object does not support item assignment",
     "output_type": "error",
     "traceback": [
      "\u001b[1;31m---------------------------------------------------------------------------\u001b[0m",
      "\u001b[1;31mTypeError\u001b[0m                                 Traceback (most recent call last)",
      "Cell \u001b[1;32mIn[14], line 7\u001b[0m\n\u001b[0;32m      3\u001b[0m \u001b[38;5;28mprint\u001b[39m(favoriteFoods[\u001b[38;5;241m2\u001b[39m])\n\u001b[0;32m      5\u001b[0m favoriteFoods_tuple \u001b[38;5;241m=\u001b[39m \u001b[38;5;28mtuple\u001b[39m(favoriteFoods)\n\u001b[1;32m----> 7\u001b[0m \u001b[43mfavoriteFoods_tuple\u001b[49m\u001b[43m[\u001b[49m\u001b[38;5;124;43m\"\u001b[39;49m\u001b[38;5;124;43mmeet\u001b[39;49m\u001b[38;5;124;43m\"\u001b[39;49m\u001b[43m]\u001b[49m \u001b[38;5;241m=\u001b[39m \u001b[38;5;124m\"\u001b[39m\u001b[38;5;124mpitza\u001b[39m\u001b[38;5;124m\"\u001b[39m    \u001b[38;5;66;03m# tuple object does not support item assignment\u001b[39;00m\n\u001b[0;32m      8\u001b[0m \u001b[38;5;28mprint\u001b[39m(favoriteFoods_tuple)\n",
      "\u001b[1;31mTypeError\u001b[0m: 'tuple' object does not support item assignment"
     ]
    }
   ],
   "source": [
    "favoriteFoods = [\"fish\" , \"meet\" , \"chiken\" , \"bananas\" , \"apples\"]\n",
    "print(favoriteFoods)\n",
    "print(favoriteFoods[2])\n",
    "\n",
    "\n",
    "#Challenge\n",
    "\n",
    "favoriteFoods_tuple = tuple(favoriteFoods)\n",
    "favoriteFoods_tuple[\"meet\"] = \"pitza\"    # tuple object does not support item assignment\n",
    "print(favoriteFoods_tuple)\n"
   ]
  },
  {
   "cell_type": "markdown",
   "metadata": {},
   "source": [
    "# Section 6: String Manipulation and Slicing\n",
    "1. Given the string sentence = \"Learning Python is fun!\", write a program to slice and print the word \"Python\" from it.\n",
    "2. Challenge: Replace the word \"fun\" with \"awesome\" in the sentence and print the new sentence."
   ]
  },
  {
   "cell_type": "code",
   "execution_count": null,
   "metadata": {},
   "outputs": [
    {
     "name": "stdout",
     "output_type": "stream",
     "text": [
      "Python\n",
      "Learning Python is awesome!\n"
     ]
    }
   ],
   "source": [
    "sentence = \"Learning Python is fun!\"\n",
    "word = sentence[9:15]\n",
    "print(word)\n",
    "\n",
    "#Challenge\n",
    "\n",
    "new_sentence = sentence.replace(\"fun\", \"awesome\")\n",
    "print(new_sentence)"
   ]
  },
  {
   "cell_type": "markdown",
   "metadata": {},
   "source": [
    "# Section 7: Dictionaries\n",
    "1. Create a dictionary called student with the keys name, age, and grade. Assign values to each key and print the dictionary.\n",
    "2. Challenge: Add a new key city to the dictionary and set it to any city name. Print the updated dictionary."
   ]
  },
  {
   "cell_type": "code",
   "execution_count": null,
   "metadata": {},
   "outputs": [
    {
     "name": "stdout",
     "output_type": "stream",
     "text": [
      "{'name': 'John', 'age': 16, 'grade': '10th'}\n",
      "{'name': 'John', 'age': 16, 'grade': '10th', 'city': 'New York'}\n"
     ]
    }
   ],
   "source": [
    "student = {\n",
    "    \"name\": \"John\",\n",
    "    \"age\": 16,\n",
    "    \"grade\": \"10th\"\n",
    "}\n",
    "print(student)\n",
    "\n",
    "#Challenge\n",
    "\n",
    "student[\"city\"] = \"New York\"\n",
    "print(student)\n"
   ]
  },
  {
   "cell_type": "markdown",
   "metadata": {},
   "source": [
    "# Section8: Basic Arithmetic Operations\n",
    "1. Write a program that takes two numbers from the user and prints their sum, difference, product, and division result.\n",
    "2. Challenge: Use the modulo operator to check if the first number is divisible by the second number, and print the result as \"Divisible\" or \"Not Divisible\"."
   ]
  },
  {
   "cell_type": "code",
   "execution_count": null,
   "metadata": {},
   "outputs": [
    {
     "name": "stdout",
     "output_type": "stream",
     "text": [
      "Sum: 30.0\n",
      "Difference: 10.0\n",
      "Product: 200.0\n",
      "Division: 2.0\n",
      "Divisible\n"
     ]
    }
   ],
   "source": [
    "# Take input from the user\n",
    "num1 = float(input(\"Enter the first number: \"))\n",
    "num2 = float(input(\"Enter the second number: \"))\n",
    "\n",
    "# Perform arithmetic operations\n",
    "sum_result = num1 + num2\n",
    "difference = num1 - num2\n",
    "product = num1 * num2\n",
    "division = num1 / num2 if num2 != 0 else \"undefined (division by zero)\"\n",
    "\n",
    "# Print results\n",
    "print(\"Sum:\", sum_result)\n",
    "print(\"Difference:\", difference)\n",
    "print(\"Product:\", product)\n",
    "print(\"Division:\", division)\n",
    "\n",
    "\n",
    "\n",
    "#Challenge\n",
    "\n",
    "if num2 != 0:\n",
    "    if num1 % num2 == 0:\n",
    "        print(\"Divisible\")\n",
    "    else:\n",
    "        print(\"Not Divisible\")\n",
    "else:\n",
    "    print(\"Cannot check divisibility by zero.\")\n"
   ]
  },
  {
   "cell_type": "code",
   "execution_count": null,
   "metadata": {},
   "outputs": [],
   "source": []
  }
 ],
 "metadata": {
  "kernelspec": {
   "display_name": "Python 3",
   "language": "python",
   "name": "python3"
  },
  "language_info": {
   "codemirror_mode": {
    "name": "ipython",
    "version": 3
   },
   "file_extension": ".py",
   "mimetype": "text/x-python",
   "name": "python",
   "nbconvert_exporter": "python",
   "pygments_lexer": "ipython3",
   "version": "3.13.0"
  }
 },
 "nbformat": 4,
 "nbformat_minor": 2
}
