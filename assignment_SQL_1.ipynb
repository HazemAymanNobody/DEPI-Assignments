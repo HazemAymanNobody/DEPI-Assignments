{
 "cells": [
  {
   "cell_type": "code",
   "execution_count": 1,
   "metadata": {},
   "outputs": [],
   "source": [
    "import sqlite3"
   ]
  },
  {
   "cell_type": "code",
   "execution_count": 2,
   "metadata": {},
   "outputs": [],
   "source": [
    "# إنشاء قاعدة البيانات وإنشاء الاتصال\n",
    "connection = sqlite3.connect(\"company.db\")\n",
    "cursor = connection.cursor()"
   ]
  },
  {
   "cell_type": "code",
   "execution_count": 4,
   "metadata": {},
   "outputs": [
    {
     "data": {
      "text/plain": [
       "<sqlite3.Cursor at 0x11ed1b3ad40>"
      ]
     },
     "execution_count": 4,
     "metadata": {},
     "output_type": "execute_result"
    }
   ],
   "source": [
    "# إنشاء جدول employees\n",
    "cursor.execute(\"\"\"\n",
    "CREATE TABLE IF NOT EXISTS employee (\n",
    "    emp_id INTEGER PRIMARY KEY,\n",
    "    last_name TEXT,\n",
    "    salary REAL,\n",
    "    manager_id INTEGER,\n",
    "    department_id INTEGER\n",
    ");\n",
    "\"\"\")\n",
    "\n",
    "# إدخال بيانات عينة في جدول employees\n",
    "cursor.executemany(\"\"\"\n",
    "INSERT INTO employee (emp_id, last_name, salary, manager_id, department_id)\n",
    "VALUES (?, ?, ?, ?, ?)\n",
    "\"\"\", [\n",
    "    (1, \"Smith\", 3000, 100, 1),\n",
    "    (2, \"Johnson\", 4000, 101, 1),\n",
    "    (3, \"Williams\", 2500, 102, 2),\n",
    "    (4, \"Brown\", 5000, 103, 2),\n",
    "    (5, \"Jones\", 2000, 200, 3)\n",
    "])"
   ]
  },
  {
   "cell_type": "code",
   "execution_count": 5,
   "metadata": {},
   "outputs": [
    {
     "data": {
      "text/plain": [
       "<sqlite3.Cursor at 0x11ed1b3ad40>"
      ]
     },
     "execution_count": 5,
     "metadata": {},
     "output_type": "execute_result"
    }
   ],
   "source": [
    "# إنشاء جدول departments\n",
    "cursor.execute(\"\"\"\n",
    "CREATE TABLE IF NOT EXISTS department (\n",
    "    department_id INTEGER PRIMARY KEY,\n",
    "    department_name TEXT,\n",
    "    manager_id INTEGER\n",
    ");\n",
    "\"\"\")\n",
    "\n",
    "# إدخال بيانات عينة في جدول departments\n",
    "cursor.executemany(\"\"\"\n",
    "INSERT INTO department (department_id, department_name, manager_id)\n",
    "VALUES (?, ?, ?)\n",
    "\"\"\", [\n",
    "    (1, \"HR\", 100),\n",
    "    (2, \"Engineering\", 102),\n",
    "    (3, \"Sales\", 200)\n",
    "])"
   ]
  },
  {
   "cell_type": "markdown",
   "metadata": {},
   "source": [
    "# Task 1: Using Comparison and Logical Operators\n",
    "**Question:**\n",
    "> Write a SQL query to retrieve the emp_id, last_name, and salary of employees whose salary is between 2,000 and 5,000 and do not have a manager ID of 101 or 200.\n",
    "***\n",
    "**Instructions:**\n",
    ">1. Use the SELECT statement to specify the columns: emp_id, last_name, and salary.\n",
    ">2. Filter the results using the WHERE clause with the BETWEEN operator to set the salary range.\n",
    ">3. Use the NOT IN clause to exclude certain manager IDs.\n",
    ">4. Combine conditions using the AND logical operator."
   ]
  },
  {
   "cell_type": "code",
   "execution_count": 6,
   "metadata": {},
   "outputs": [
    {
     "name": "stdout",
     "output_type": "stream",
     "text": [
      "Task 1 Result:\n",
      "[(1, 'Smith', 3000.0), (3, 'Williams', 2500.0), (4, 'Brown', 5000.0)]\n"
     ]
    }
   ],
   "source": [
    "\n",
    "print(\"Task 1 Result:\")\n",
    "cursor.execute(\"\"\"\n",
    "SELECT emp_id, last_name, salary\n",
    "FROM employee\n",
    "WHERE salary BETWEEN 2000 AND 5000\n",
    "AND manager_id NOT IN (101, 200);\n",
    "\"\"\")\n",
    "print(cursor.fetchall())"
   ]
  },
  {
   "cell_type": "markdown",
   "metadata": {},
   "source": [
    "# Task 2: Using JOINs and Aliases\n",
    "**Question:** \n",
    "> Write a SQL query to display the employee names along with their respective department names. Use aliases for table names for better readability.\n",
    "***\n",
    "**Instructions:**\n",
    ">1. Use the SELECT statement to specify the columns: employee.name and department.name.\n",
    ">2. Use the FROM clause to include the tables employees and departments.\n",
    ">3. Use an INNER JOIN to connect the employees and departments tables based on the department IDs.\n",
    ">4. Use table aliases (e.g., e for employees, d for departments) to shorten the table names in the query.\n",
    ">5. Order the results by department name in ascending order."
   ]
  },
  {
   "cell_type": "code",
   "execution_count": 7,
   "metadata": {},
   "outputs": [
    {
     "name": "stdout",
     "output_type": "stream",
     "text": [
      "\n",
      "Task 2 Result:\n",
      "[('Williams', 'Engineering'), ('Brown', 'Engineering'), ('Smith', 'HR'), ('Johnson', 'HR'), ('Jones', 'Sales')]\n"
     ]
    }
   ],
   "source": [
    "print(\"\\nTask 2 Result:\")\n",
    "cursor.execute(\"\"\"\n",
    "SELECT e.last_name AS employee_name, d.department_name\n",
    "FROM employee e\n",
    "INNER JOIN department d\n",
    "ON e.department_id = d.department_id\n",
    "ORDER BY d.department_name ASC;\n",
    "\"\"\")\n",
    "print(cursor.fetchall())\n"
   ]
  },
  {
   "cell_type": "markdown",
   "metadata": {},
   "source": [
    "# Task 3: Aggregate Functions and GROUP BY\n",
    "**Question:**\n",
    "***\n",
    ">Write a SQL query to find the number of employees and the average salary for each department. Ensure that the results are grouped by department ID.\n",
    "***\n",
    "**Instructions:**\n",
    ">1. Use the SELECT statement to specify the department ID, the count of employees, and the average salary.\n",
    ">2. Use the GROUP BY clause to group the results by department ID.\n",
    ">3. Use the COUNT() function to find the number of employees in each department.\n",
    ">4. Use the AVG() function to calculate the average salary in each department."
   ]
  },
  {
   "cell_type": "code",
   "execution_count": 8,
   "metadata": {},
   "outputs": [
    {
     "name": "stdout",
     "output_type": "stream",
     "text": [
      "\n",
      "Task 3 Result:\n",
      "[(1, 2, 3500.0), (2, 2, 3750.0), (3, 1, 2000.0)]\n"
     ]
    }
   ],
   "source": [
    "print(\"\\nTask 3 Result:\")\n",
    "cursor.execute(\"\"\"\n",
    "SELECT department_id, COUNT(emp_id) AS employee_count, AVG(salary) AS average_salary\n",
    "FROM employee\n",
    "GROUP BY department_id;\n",
    "\"\"\")\n",
    "print(cursor.fetchall())\n"
   ]
  },
  {
   "cell_type": "code",
   "execution_count": 9,
   "metadata": {},
   "outputs": [],
   "source": [
    "# حفظ وإغلاق الاتصال\n",
    "connection.commit()\n",
    "connection.close()"
   ]
  },
  {
   "cell_type": "code",
   "execution_count": null,
   "metadata": {},
   "outputs": [],
   "source": []
  }
 ],
 "metadata": {
  "kernelspec": {
   "display_name": "Python 3",
   "language": "python",
   "name": "python3"
  },
  "language_info": {
   "codemirror_mode": {
    "name": "ipython",
    "version": 3
   },
   "file_extension": ".py",
   "mimetype": "text/x-python",
   "name": "python",
   "nbconvert_exporter": "python",
   "pygments_lexer": "ipython3",
   "version": "3.11.9"
  }
 },
 "nbformat": 4,
 "nbformat_minor": 2
}
